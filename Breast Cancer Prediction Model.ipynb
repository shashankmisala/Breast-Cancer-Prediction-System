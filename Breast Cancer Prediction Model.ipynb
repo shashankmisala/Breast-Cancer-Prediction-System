{
 "cells": [
  {
   "cell_type": "markdown",
   "id": "639e0d08-17e0-449b-bc6a-8ad954c16e81",
   "metadata": {},
   "source": [
    "# Breast Cancer Prediction using Machine Learning"
   ]
  },
  {
   "cell_type": "markdown",
   "id": "336d9438-ae9f-4e6d-9cc8-7acb65130824",
   "metadata": {},
   "source": [
    "### Importing Libararies"
   ]
  },
  {
   "cell_type": "code",
   "execution_count": 1,
   "id": "5652579b-9ea4-4e8b-8e66-ec4b289cc2a1",
   "metadata": {},
   "outputs": [],
   "source": [
    "import numpy as np\n",
    "import pandas as pd\n",
    "import matplotlib.pyplot as plt\n",
    "import seaborn as sns\n",
    "import plotly.express as px\n",
    "import plotly.graph_objects as po\n",
    "from sklearn.model_selection import train_test_split\n",
    "from sklearn.svm import SVC\n",
    "from sklearn.metrics import accuracy_score, classification_report, confusion_matrix"
   ]
  },
  {
   "cell_type": "markdown",
   "id": "3453fe1d-aaa3-45b1-bef0-38e976be0eb7",
   "metadata": {},
   "source": [
    "### Data Pre-Processing"
   ]
  },
  {
   "cell_type": "code",
   "execution_count": 2,
   "id": "b7ef0d65-e197-4382-b2e0-d7f520733b50",
   "metadata": {},
   "outputs": [],
   "source": [
    "# Reading the CSV File\n",
    "df = pd.read_csv('BRCA.csv')"
   ]
  },
  {
   "cell_type": "code",
   "execution_count": 3,
   "id": "ecf30b61-0194-44be-9c00-0493d0b060c6",
   "metadata": {},
   "outputs": [
    {
     "data": {
      "text/html": [
       "<div>\n",
       "<style scoped>\n",
       "    .dataframe tbody tr th:only-of-type {\n",
       "        vertical-align: middle;\n",
       "    }\n",
       "\n",
       "    .dataframe tbody tr th {\n",
       "        vertical-align: top;\n",
       "    }\n",
       "\n",
       "    .dataframe thead th {\n",
       "        text-align: right;\n",
       "    }\n",
       "</style>\n",
       "<table border=\"1\" class=\"dataframe\">\n",
       "  <thead>\n",
       "    <tr style=\"text-align: right;\">\n",
       "      <th></th>\n",
       "      <th>Patient_ID</th>\n",
       "      <th>Age</th>\n",
       "      <th>Gender</th>\n",
       "      <th>Protein1</th>\n",
       "      <th>Protein2</th>\n",
       "      <th>Protein3</th>\n",
       "      <th>Protein4</th>\n",
       "      <th>Tumour_Stage</th>\n",
       "      <th>Histology</th>\n",
       "      <th>ER status</th>\n",
       "      <th>PR status</th>\n",
       "      <th>HER2 status</th>\n",
       "      <th>Surgery_type</th>\n",
       "      <th>Date_of_Surgery</th>\n",
       "      <th>Date_of_Last_Visit</th>\n",
       "      <th>Patient_Status</th>\n",
       "    </tr>\n",
       "  </thead>\n",
       "  <tbody>\n",
       "    <tr>\n",
       "      <th>0</th>\n",
       "      <td>TCGA-D8-A1XD</td>\n",
       "      <td>36.0</td>\n",
       "      <td>FEMALE</td>\n",
       "      <td>0.080353</td>\n",
       "      <td>0.42638</td>\n",
       "      <td>0.54715</td>\n",
       "      <td>0.273680</td>\n",
       "      <td>III</td>\n",
       "      <td>Infiltrating Ductal Carcinoma</td>\n",
       "      <td>Positive</td>\n",
       "      <td>Positive</td>\n",
       "      <td>Negative</td>\n",
       "      <td>Modified Radical Mastectomy</td>\n",
       "      <td>15-Jan-17</td>\n",
       "      <td>19-Jun-17</td>\n",
       "      <td>Alive</td>\n",
       "    </tr>\n",
       "    <tr>\n",
       "      <th>1</th>\n",
       "      <td>TCGA-EW-A1OX</td>\n",
       "      <td>43.0</td>\n",
       "      <td>FEMALE</td>\n",
       "      <td>-0.420320</td>\n",
       "      <td>0.57807</td>\n",
       "      <td>0.61447</td>\n",
       "      <td>-0.031505</td>\n",
       "      <td>II</td>\n",
       "      <td>Mucinous Carcinoma</td>\n",
       "      <td>Positive</td>\n",
       "      <td>Positive</td>\n",
       "      <td>Negative</td>\n",
       "      <td>Lumpectomy</td>\n",
       "      <td>26-Apr-17</td>\n",
       "      <td>09-Nov-18</td>\n",
       "      <td>Dead</td>\n",
       "    </tr>\n",
       "    <tr>\n",
       "      <th>2</th>\n",
       "      <td>TCGA-A8-A079</td>\n",
       "      <td>69.0</td>\n",
       "      <td>FEMALE</td>\n",
       "      <td>0.213980</td>\n",
       "      <td>1.31140</td>\n",
       "      <td>-0.32747</td>\n",
       "      <td>-0.234260</td>\n",
       "      <td>III</td>\n",
       "      <td>Infiltrating Ductal Carcinoma</td>\n",
       "      <td>Positive</td>\n",
       "      <td>Positive</td>\n",
       "      <td>Negative</td>\n",
       "      <td>Other</td>\n",
       "      <td>08-Sep-17</td>\n",
       "      <td>09-Jun-18</td>\n",
       "      <td>Alive</td>\n",
       "    </tr>\n",
       "    <tr>\n",
       "      <th>3</th>\n",
       "      <td>TCGA-D8-A1XR</td>\n",
       "      <td>56.0</td>\n",
       "      <td>FEMALE</td>\n",
       "      <td>0.345090</td>\n",
       "      <td>-0.21147</td>\n",
       "      <td>-0.19304</td>\n",
       "      <td>0.124270</td>\n",
       "      <td>II</td>\n",
       "      <td>Infiltrating Ductal Carcinoma</td>\n",
       "      <td>Positive</td>\n",
       "      <td>Positive</td>\n",
       "      <td>Negative</td>\n",
       "      <td>Modified Radical Mastectomy</td>\n",
       "      <td>25-Jan-17</td>\n",
       "      <td>12-Jul-17</td>\n",
       "      <td>Alive</td>\n",
       "    </tr>\n",
       "    <tr>\n",
       "      <th>4</th>\n",
       "      <td>TCGA-BH-A0BF</td>\n",
       "      <td>56.0</td>\n",
       "      <td>FEMALE</td>\n",
       "      <td>0.221550</td>\n",
       "      <td>1.90680</td>\n",
       "      <td>0.52045</td>\n",
       "      <td>-0.311990</td>\n",
       "      <td>II</td>\n",
       "      <td>Infiltrating Ductal Carcinoma</td>\n",
       "      <td>Positive</td>\n",
       "      <td>Positive</td>\n",
       "      <td>Negative</td>\n",
       "      <td>Other</td>\n",
       "      <td>06-May-17</td>\n",
       "      <td>27-Jun-19</td>\n",
       "      <td>Dead</td>\n",
       "    </tr>\n",
       "  </tbody>\n",
       "</table>\n",
       "</div>"
      ],
      "text/plain": [
       "     Patient_ID   Age  Gender  Protein1  Protein2  Protein3  Protein4  \\\n",
       "0  TCGA-D8-A1XD  36.0  FEMALE  0.080353   0.42638   0.54715  0.273680   \n",
       "1  TCGA-EW-A1OX  43.0  FEMALE -0.420320   0.57807   0.61447 -0.031505   \n",
       "2  TCGA-A8-A079  69.0  FEMALE  0.213980   1.31140  -0.32747 -0.234260   \n",
       "3  TCGA-D8-A1XR  56.0  FEMALE  0.345090  -0.21147  -0.19304  0.124270   \n",
       "4  TCGA-BH-A0BF  56.0  FEMALE  0.221550   1.90680   0.52045 -0.311990   \n",
       "\n",
       "  Tumour_Stage                      Histology ER status PR status HER2 status  \\\n",
       "0          III  Infiltrating Ductal Carcinoma  Positive  Positive    Negative   \n",
       "1           II             Mucinous Carcinoma  Positive  Positive    Negative   \n",
       "2          III  Infiltrating Ductal Carcinoma  Positive  Positive    Negative   \n",
       "3           II  Infiltrating Ductal Carcinoma  Positive  Positive    Negative   \n",
       "4           II  Infiltrating Ductal Carcinoma  Positive  Positive    Negative   \n",
       "\n",
       "                  Surgery_type Date_of_Surgery Date_of_Last_Visit  \\\n",
       "0  Modified Radical Mastectomy       15-Jan-17          19-Jun-17   \n",
       "1                   Lumpectomy       26-Apr-17          09-Nov-18   \n",
       "2                        Other       08-Sep-17          09-Jun-18   \n",
       "3  Modified Radical Mastectomy       25-Jan-17          12-Jul-17   \n",
       "4                        Other       06-May-17          27-Jun-19   \n",
       "\n",
       "  Patient_Status  \n",
       "0          Alive  \n",
       "1           Dead  \n",
       "2          Alive  \n",
       "3          Alive  \n",
       "4           Dead  "
      ]
     },
     "execution_count": 3,
     "metadata": {},
     "output_type": "execute_result"
    }
   ],
   "source": [
    "# First 5 Rows of the Dataset\n",
    "df.head()"
   ]
  },
  {
   "cell_type": "code",
   "execution_count": 4,
   "id": "f26d4e7d-d5be-4581-84ca-a92e4ee061c2",
   "metadata": {},
   "outputs": [
    {
     "data": {
      "text/plain": [
       "Patient_ID             7\n",
       "Age                    7\n",
       "Gender                 7\n",
       "Protein1               7\n",
       "Protein2               7\n",
       "Protein3               7\n",
       "Protein4               7\n",
       "Tumour_Stage           7\n",
       "Histology              7\n",
       "ER status              7\n",
       "PR status              7\n",
       "HER2 status            7\n",
       "Surgery_type           7\n",
       "Date_of_Surgery        7\n",
       "Date_of_Last_Visit    24\n",
       "Patient_Status        20\n",
       "dtype: int64"
      ]
     },
     "execution_count": 4,
     "metadata": {},
     "output_type": "execute_result"
    }
   ],
   "source": [
    "# Checking for Null/Empty Values in the Dataset\n",
    "df.isnull().sum()"
   ]
  },
  {
   "cell_type": "code",
   "execution_count": 5,
   "id": "3fe24ef3-a02c-4113-822c-09bdda5019cb",
   "metadata": {},
   "outputs": [],
   "source": [
    "# Dropping the Null Values from the Dataset\n",
    "df = df.dropna()"
   ]
  },
  {
   "cell_type": "code",
   "execution_count": 6,
   "id": "1978bfcf-f1c7-4410-a0a5-d5a7552a07ad",
   "metadata": {},
   "outputs": [
    {
     "data": {
      "text/plain": [
       "Patient_ID            0\n",
       "Age                   0\n",
       "Gender                0\n",
       "Protein1              0\n",
       "Protein2              0\n",
       "Protein3              0\n",
       "Protein4              0\n",
       "Tumour_Stage          0\n",
       "Histology             0\n",
       "ER status             0\n",
       "PR status             0\n",
       "HER2 status           0\n",
       "Surgery_type          0\n",
       "Date_of_Surgery       0\n",
       "Date_of_Last_Visit    0\n",
       "Patient_Status        0\n",
       "dtype: int64"
      ]
     },
     "execution_count": 6,
     "metadata": {},
     "output_type": "execute_result"
    }
   ],
   "source": [
    "# Checking Again for Null Values\n",
    "df.isnull().sum()"
   ]
  },
  {
   "cell_type": "code",
   "execution_count": 7,
   "id": "997e9de8-9918-4b3d-894d-be6db87dfd8f",
   "metadata": {},
   "outputs": [
    {
     "data": {
      "text/plain": [
       "0"
      ]
     },
     "execution_count": 7,
     "metadata": {},
     "output_type": "execute_result"
    }
   ],
   "source": [
    "# Checking for Duplicated Values\n",
    "df.duplicated().sum()"
   ]
  },
  {
   "cell_type": "code",
   "execution_count": 8,
   "id": "85f147af-994d-49b2-900f-bc31dae33762",
   "metadata": {},
   "outputs": [
    {
     "data": {
      "text/plain": [
       "Index(['Patient_ID', 'Age', 'Gender', 'Protein1', 'Protein2', 'Protein3',\n",
       "       'Protein4', 'Tumour_Stage', 'Histology', 'ER status', 'PR status',\n",
       "       'HER2 status', 'Surgery_type', 'Date_of_Surgery', 'Date_of_Last_Visit',\n",
       "       'Patient_Status'],\n",
       "      dtype='object')"
      ]
     },
     "execution_count": 8,
     "metadata": {},
     "output_type": "execute_result"
    }
   ],
   "source": [
    "# Printing the columns in the Dataset\n",
    "df.columns"
   ]
  },
  {
   "cell_type": "code",
   "execution_count": 9,
   "id": "aed79930-bd4f-43b2-b6fb-f1735dff5431",
   "metadata": {},
   "outputs": [
    {
     "name": "stdout",
     "output_type": "stream",
     "text": [
      "<class 'pandas.core.frame.DataFrame'>\n",
      "Index: 317 entries, 0 to 333\n",
      "Data columns (total 16 columns):\n",
      " #   Column              Non-Null Count  Dtype  \n",
      "---  ------              --------------  -----  \n",
      " 0   Patient_ID          317 non-null    object \n",
      " 1   Age                 317 non-null    float64\n",
      " 2   Gender              317 non-null    object \n",
      " 3   Protein1            317 non-null    float64\n",
      " 4   Protein2            317 non-null    float64\n",
      " 5   Protein3            317 non-null    float64\n",
      " 6   Protein4            317 non-null    float64\n",
      " 7   Tumour_Stage        317 non-null    object \n",
      " 8   Histology           317 non-null    object \n",
      " 9   ER status           317 non-null    object \n",
      " 10  PR status           317 non-null    object \n",
      " 11  HER2 status         317 non-null    object \n",
      " 12  Surgery_type        317 non-null    object \n",
      " 13  Date_of_Surgery     317 non-null    object \n",
      " 14  Date_of_Last_Visit  317 non-null    object \n",
      " 15  Patient_Status      317 non-null    object \n",
      "dtypes: float64(5), object(11)\n",
      "memory usage: 42.1+ KB\n"
     ]
    }
   ],
   "source": [
    "# Information Regarding the Dataset\n",
    "df.info()"
   ]
  },
  {
   "cell_type": "markdown",
   "id": "e54a7f0f-0a3b-4601-892d-079e642edc0b",
   "metadata": {},
   "source": [
    "### Data Visualization"
   ]
  },
  {
   "cell_type": "code",
   "execution_count": 10,
   "id": "22af5bb1-d20e-40aa-909e-055b7107e51f",
   "metadata": {},
   "outputs": [
    {
     "data": {
      "text/plain": [
       "Tumour_Stage\n",
       "I       60\n",
       "III     77\n",
       "II     180\n",
       "Name: count, dtype: int64"
      ]
     },
     "execution_count": 10,
     "metadata": {},
     "output_type": "execute_result"
    }
   ],
   "source": [
    "# Printing the Values of Tumour Stage Column\n",
    "df['Tumour_Stage'].value_counts().sort_values()"
   ]
  },
  {
   "cell_type": "code",
   "execution_count": 11,
   "id": "709e6117-a5f7-4b88-9e2c-3bfac40a46eb",
   "metadata": {},
   "outputs": [],
   "source": [
    "# Assigning the Values to new variable for Representation Purposes\n",
    "tm_sg = df['Tumour_Stage'].value_counts().sort_values()\n",
    "tm = tm_sg.index\n",
    "sg = tm_sg.values"
   ]
  },
  {
   "cell_type": "code",
   "execution_count": 12,
   "id": "7fadc17d-4274-441c-8c70-27790b65d2cf",
   "metadata": {
    "scrolled": true
   },
   "outputs": [
    {
     "data": {
      "image/png": "[encoded data removed]"
     },
     "metadata": {},
     "output_type": "display_data"
    }
   ],
   "source": [
    "# Pie Chart for Tumor Stages\n",
    "figure = px.pie(df,values = sg, names = tm, hole = 0.5, title = 'Tumor Stage of Patiens')\n",
    "figure.show('png')"
   ]
  },
  {
   "cell_type": "code",
   "execution_count": 13,
   "id": "0f7ff352-5c1e-40c1-bd1e-6684d4b081cf",
   "metadata": {},
   "outputs": [
    {
     "data": {
      "text/plain": [
       "Histology\n",
       "Mucinous Carcinoma                 12\n",
       "Infiltrating Lobular Carcinoma     81\n",
       "Infiltrating Ductal Carcinoma     224\n",
       "Name: count, dtype: int64"
      ]
     },
     "execution_count": 13,
     "metadata": {},
     "output_type": "execute_result"
    }
   ],
   "source": [
    "# Printing the Values of Histology Column\n",
    "df['Histology'].value_counts().sort_values()"
   ]
  },
  {
   "cell_type": "code",
   "execution_count": 14,
   "id": "0f08c4f3-a9b0-4650-ac8a-e123998e1c09",
   "metadata": {},
   "outputs": [],
   "source": [
    "# Assigning the Values to new variable for Representation Purposes\n",
    "hist = df['Histology'].value_counts().sort_values()\n",
    "histindex = hist.index\n",
    "histvalues = hist.values"
   ]
  },
  {
   "cell_type": "code",
   "execution_count": 15,
   "id": "0efbccf1-ba52-48e2-9c57-bda534a1363a",
   "metadata": {},
   "outputs": [
    {
     "data": {
      "image/png": "[encoded data removed]"
     },
     "metadata": {},
     "output_type": "display_data"
    }
   ],
   "source": [
    "# Pie Chart for Histology \n",
    "fig = px.pie(df, values = histvalues, names = histindex, hole=0.5, title='Histology Distribution')\n",
    "fig.show('png')"
   ]
  },
  {
   "cell_type": "code",
   "execution_count": 16,
   "id": "0fbf444e-b00e-4a9f-85e5-60350ab81f31",
   "metadata": {},
   "outputs": [
    {
     "data": {
      "text/plain": [
       "Surgery_type\n",
       "Simple Mastectomy              65\n",
       "Lumpectomy                     66\n",
       "Modified Radical Mastectomy    89\n",
       "Other                          97\n",
       "Name: count, dtype: int64"
      ]
     },
     "execution_count": 16,
     "metadata": {},
     "output_type": "execute_result"
    }
   ],
   "source": [
    "# Printing the Values of Surgery Type Column\n",
    "df['Surgery_type'].value_counts().sort_values()"
   ]
  },
  {
   "cell_type": "code",
   "execution_count": 17,
   "id": "09ae1544-6532-4a09-9a2d-7d23da257dd2",
   "metadata": {},
   "outputs": [],
   "source": [
    "# Assigning the Values to new variable for Representation Purposes\n",
    "st = df['Surgery_type'].value_counts().sort_values()\n",
    "stindex = st.index\n",
    "stvalues = st.values"
   ]
  },
  {
   "cell_type": "code",
   "execution_count": 18,
   "id": "a26b6231-5e40-4c4e-bb14-4a8587da815f",
   "metadata": {},
   "outputs": [
    {
     "data": {
      "image/png": "[encoded data removed]"
     },
     "metadata": {},
     "output_type": "display_data"
    }
   ],
   "source": [
    "# Pie Chart for Surgery Type\n",
    "fig2 = px.pie(df, values = stvalues, names=stindex, hole=0.5, title ='Surgery Type Distribution')\n",
    "fig2.show('png')"
   ]
  },
  {
   "cell_type": "code",
   "execution_count": 19,
   "id": "f3501688-2100-4f9c-a1bd-07e3d2506387",
   "metadata": {},
   "outputs": [
    {
     "data": {
      "text/plain": [
       "ER status\n",
       "Positive    317\n",
       "Name: count, dtype: int64"
      ]
     },
     "execution_count": 19,
     "metadata": {},
     "output_type": "execute_result"
    }
   ],
   "source": [
    "# Printing the Values of ER Status Column\n",
    "df['ER status'].value_counts().sort_values()"
   ]
  },
  {
   "cell_type": "code",
   "execution_count": 20,
   "id": "b700578b-5ef4-4484-b3da-9cce04094931",
   "metadata": {},
   "outputs": [
    {
     "data": {
      "text/plain": [
       "PR status\n",
       "Positive    317\n",
       "Name: count, dtype: int64"
      ]
     },
     "execution_count": 20,
     "metadata": {},
     "output_type": "execute_result"
    }
   ],
   "source": [
    "# Printing the Values of PR Status Column\n",
    "df['PR status'].value_counts().sort_values()"
   ]
  },
  {
   "cell_type": "code",
   "execution_count": 21,
   "id": "dffcf179-99aa-4a27-9ebb-bd2dcbbf7f23",
   "metadata": {},
   "outputs": [
    {
     "data": {
      "text/plain": [
       "HER2 status\n",
       "Positive     29\n",
       "Negative    288\n",
       "Name: count, dtype: int64"
      ]
     },
     "execution_count": 21,
     "metadata": {},
     "output_type": "execute_result"
    }
   ],
   "source": [
    "# Printing the Values of HER2 Status Column\n",
    "df['HER2 status'].value_counts().sort_values()"
   ]
  },
  {
   "cell_type": "code",
   "execution_count": 22,
   "id": "ac3f3be7-26bf-4d06-9496-04078075c31c",
   "metadata": {},
   "outputs": [
    {
     "data": {
      "text/plain": [
       "Gender\n",
       "FEMALE    313\n",
       "MALE        4\n",
       "Name: count, dtype: int64"
      ]
     },
     "execution_count": 22,
     "metadata": {},
     "output_type": "execute_result"
    }
   ],
   "source": [
    "# Printing the Values of Gender Column\n",
    "df['Gender'].value_counts()"
   ]
  },
  {
   "cell_type": "code",
   "execution_count": 23,
   "id": "61422484-2622-447d-9806-93f506ef778a",
   "metadata": {},
   "outputs": [],
   "source": [
    "# Mapping String Values to Numerical Values\n",
    "df['ER status'] = df['ER status'].map({'Positive':1})\n",
    "df['PR status'] = df['PR status'].map({'Positive':1})\n",
    "df['HER2 status'] = df['HER2 status'].map({'Positive':1, 'Negative':0})\n",
    "df['Tumour_Stage'] = df['Tumour_Stage'].map({'I':1, 'II':2, 'III':3})\n",
    "df['Gender'] = df['Gender'].map({'FEMALE':1, 'MALE':0})\n",
    "df['Patient_Status'] = df['Patient_Status'].map({'Alive':1, 'Dead':0})\n",
    "df['Surgery_type'] = df['Surgery_type'].map({'Simple Mastectomy':1, 'Lumpectomy':2,'Modified Radical Mastectomy':3,'Other':4})\n",
    "df['Histology'] = df['Histology'].map({'Mucinous Carcinoma':1, 'Infiltrating Lobular Carcinoma':2,'Infiltrating Ductal Carcinoma':3})"
   ]
  },
  {
   "cell_type": "code",
   "execution_count": 24,
   "id": "64b80283-11b8-4421-bdec-acf117f7ba7e",
   "metadata": {},
   "outputs": [
    {
     "data": {
      "text/html": [
       "<div>\n",
       "<style scoped>\n",
       "    .dataframe tbody tr th:only-of-type {\n",
       "        vertical-align: middle;\n",
       "    }\n",
       "\n",
       "    .dataframe tbody tr th {\n",
       "        vertical-align: top;\n",
       "    }\n",
       "\n",
       "    .dataframe thead th {\n",
       "        text-align: right;\n",
       "    }\n",
       "</style>\n",
       "<table border=\"1\" class=\"dataframe\">\n",
       "  <thead>\n",
       "    <tr style=\"text-align: right;\">\n",
       "      <th></th>\n",
       "      <th>Patient_ID</th>\n",
       "      <th>Age</th>\n",
       "      <th>Gender</th>\n",
       "      <th>Protein1</th>\n",
       "      <th>Protein2</th>\n",
       "      <th>Protein3</th>\n",
       "      <th>Protein4</th>\n",
       "      <th>Tumour_Stage</th>\n",
       "      <th>Histology</th>\n",
       "      <th>ER status</th>\n",
       "      <th>PR status</th>\n",
       "      <th>HER2 status</th>\n",
       "      <th>Surgery_type</th>\n",
       "      <th>Date_of_Surgery</th>\n",
       "      <th>Date_of_Last_Visit</th>\n",
       "      <th>Patient_Status</th>\n",
       "    </tr>\n",
       "  </thead>\n",
       "  <tbody>\n",
       "    <tr>\n",
       "      <th>0</th>\n",
       "      <td>TCGA-D8-A1XD</td>\n",
       "      <td>36.0</td>\n",
       "      <td>1</td>\n",
       "      <td>0.080353</td>\n",
       "      <td>0.42638</td>\n",
       "      <td>0.54715</td>\n",
       "      <td>0.273680</td>\n",
       "      <td>3</td>\n",
       "      <td>3</td>\n",
       "      <td>1</td>\n",
       "      <td>1</td>\n",
       "      <td>0</td>\n",
       "      <td>3</td>\n",
       "      <td>15-Jan-17</td>\n",
       "      <td>19-Jun-17</td>\n",
       "      <td>1</td>\n",
       "    </tr>\n",
       "    <tr>\n",
       "      <th>1</th>\n",
       "      <td>TCGA-EW-A1OX</td>\n",
       "      <td>43.0</td>\n",
       "      <td>1</td>\n",
       "      <td>-0.420320</td>\n",
       "      <td>0.57807</td>\n",
       "      <td>0.61447</td>\n",
       "      <td>-0.031505</td>\n",
       "      <td>2</td>\n",
       "      <td>1</td>\n",
       "      <td>1</td>\n",
       "      <td>1</td>\n",
       "      <td>0</td>\n",
       "      <td>2</td>\n",
       "      <td>26-Apr-17</td>\n",
       "      <td>09-Nov-18</td>\n",
       "      <td>0</td>\n",
       "    </tr>\n",
       "    <tr>\n",
       "      <th>2</th>\n",
       "      <td>TCGA-A8-A079</td>\n",
       "      <td>69.0</td>\n",
       "      <td>1</td>\n",
       "      <td>0.213980</td>\n",
       "      <td>1.31140</td>\n",
       "      <td>-0.32747</td>\n",
       "      <td>-0.234260</td>\n",
       "      <td>3</td>\n",
       "      <td>3</td>\n",
       "      <td>1</td>\n",
       "      <td>1</td>\n",
       "      <td>0</td>\n",
       "      <td>4</td>\n",
       "      <td>08-Sep-17</td>\n",
       "      <td>09-Jun-18</td>\n",
       "      <td>1</td>\n",
       "    </tr>\n",
       "    <tr>\n",
       "      <th>3</th>\n",
       "      <td>TCGA-D8-A1XR</td>\n",
       "      <td>56.0</td>\n",
       "      <td>1</td>\n",
       "      <td>0.345090</td>\n",
       "      <td>-0.21147</td>\n",
       "      <td>-0.19304</td>\n",
       "      <td>0.124270</td>\n",
       "      <td>2</td>\n",
       "      <td>3</td>\n",
       "      <td>1</td>\n",
       "      <td>1</td>\n",
       "      <td>0</td>\n",
       "      <td>3</td>\n",
       "      <td>25-Jan-17</td>\n",
       "      <td>12-Jul-17</td>\n",
       "      <td>1</td>\n",
       "    </tr>\n",
       "    <tr>\n",
       "      <th>4</th>\n",
       "      <td>TCGA-BH-A0BF</td>\n",
       "      <td>56.0</td>\n",
       "      <td>1</td>\n",
       "      <td>0.221550</td>\n",
       "      <td>1.90680</td>\n",
       "      <td>0.52045</td>\n",
       "      <td>-0.311990</td>\n",
       "      <td>2</td>\n",
       "      <td>3</td>\n",
       "      <td>1</td>\n",
       "      <td>1</td>\n",
       "      <td>0</td>\n",
       "      <td>4</td>\n",
       "      <td>06-May-17</td>\n",
       "      <td>27-Jun-19</td>\n",
       "      <td>0</td>\n",
       "    </tr>\n",
       "    <tr>\n",
       "      <th>...</th>\n",
       "      <td>...</td>\n",
       "      <td>...</td>\n",
       "      <td>...</td>\n",
       "      <td>...</td>\n",
       "      <td>...</td>\n",
       "      <td>...</td>\n",
       "      <td>...</td>\n",
       "      <td>...</td>\n",
       "      <td>...</td>\n",
       "      <td>...</td>\n",
       "      <td>...</td>\n",
       "      <td>...</td>\n",
       "      <td>...</td>\n",
       "      <td>...</td>\n",
       "      <td>...</td>\n",
       "      <td>...</td>\n",
       "    </tr>\n",
       "    <tr>\n",
       "      <th>329</th>\n",
       "      <td>TCGA-AN-A04A</td>\n",
       "      <td>36.0</td>\n",
       "      <td>1</td>\n",
       "      <td>0.231800</td>\n",
       "      <td>0.61804</td>\n",
       "      <td>-0.55779</td>\n",
       "      <td>-0.517350</td>\n",
       "      <td>3</td>\n",
       "      <td>3</td>\n",
       "      <td>1</td>\n",
       "      <td>1</td>\n",
       "      <td>1</td>\n",
       "      <td>1</td>\n",
       "      <td>11-Nov-19</td>\n",
       "      <td>09-Feb-20</td>\n",
       "      <td>0</td>\n",
       "    </tr>\n",
       "    <tr>\n",
       "      <th>330</th>\n",
       "      <td>TCGA-A8-A085</td>\n",
       "      <td>44.0</td>\n",
       "      <td>0</td>\n",
       "      <td>0.732720</td>\n",
       "      <td>1.11170</td>\n",
       "      <td>-0.26952</td>\n",
       "      <td>-0.354920</td>\n",
       "      <td>2</td>\n",
       "      <td>2</td>\n",
       "      <td>1</td>\n",
       "      <td>1</td>\n",
       "      <td>0</td>\n",
       "      <td>4</td>\n",
       "      <td>01-Nov-19</td>\n",
       "      <td>04-Mar-20</td>\n",
       "      <td>0</td>\n",
       "    </tr>\n",
       "    <tr>\n",
       "      <th>331</th>\n",
       "      <td>TCGA-A1-A0SG</td>\n",
       "      <td>61.0</td>\n",
       "      <td>1</td>\n",
       "      <td>-0.719470</td>\n",
       "      <td>2.54850</td>\n",
       "      <td>-0.15024</td>\n",
       "      <td>0.339680</td>\n",
       "      <td>2</td>\n",
       "      <td>3</td>\n",
       "      <td>1</td>\n",
       "      <td>1</td>\n",
       "      <td>0</td>\n",
       "      <td>2</td>\n",
       "      <td>11-Nov-19</td>\n",
       "      <td>18-Jan-21</td>\n",
       "      <td>0</td>\n",
       "    </tr>\n",
       "    <tr>\n",
       "      <th>332</th>\n",
       "      <td>TCGA-A2-A0EU</td>\n",
       "      <td>79.0</td>\n",
       "      <td>1</td>\n",
       "      <td>0.479400</td>\n",
       "      <td>2.05590</td>\n",
       "      <td>-0.53136</td>\n",
       "      <td>-0.188480</td>\n",
       "      <td>1</td>\n",
       "      <td>3</td>\n",
       "      <td>1</td>\n",
       "      <td>1</td>\n",
       "      <td>1</td>\n",
       "      <td>2</td>\n",
       "      <td>21-Nov-19</td>\n",
       "      <td>19-Feb-21</td>\n",
       "      <td>0</td>\n",
       "    </tr>\n",
       "    <tr>\n",
       "      <th>333</th>\n",
       "      <td>TCGA-B6-A40B</td>\n",
       "      <td>76.0</td>\n",
       "      <td>1</td>\n",
       "      <td>-0.244270</td>\n",
       "      <td>0.92556</td>\n",
       "      <td>-0.41823</td>\n",
       "      <td>-0.067848</td>\n",
       "      <td>1</td>\n",
       "      <td>3</td>\n",
       "      <td>1</td>\n",
       "      <td>1</td>\n",
       "      <td>0</td>\n",
       "      <td>2</td>\n",
       "      <td>11-Nov-19</td>\n",
       "      <td>05-Jan-21</td>\n",
       "      <td>0</td>\n",
       "    </tr>\n",
       "  </tbody>\n",
       "</table>\n",
       "<p>317 rows × 16 columns</p>\n",
       "</div>"
      ],
      "text/plain": [
       "       Patient_ID   Age  Gender  Protein1  Protein2  Protein3  Protein4  \\\n",
       "0    TCGA-D8-A1XD  36.0       1  0.080353   0.42638   0.54715  0.273680   \n",
       "1    TCGA-EW-A1OX  43.0       1 -0.420320   0.57807   0.61447 -0.031505   \n",
       "2    TCGA-A8-A079  69.0       1  0.213980   1.31140  -0.32747 -0.234260   \n",
       "3    TCGA-D8-A1XR  56.0       1  0.345090  -0.21147  -0.19304  0.124270   \n",
       "4    TCGA-BH-A0BF  56.0       1  0.221550   1.90680   0.52045 -0.311990   \n",
       "..            ...   ...     ...       ...       ...       ...       ...   \n",
       "329  TCGA-AN-A04A  36.0       1  0.231800   0.61804  -0.55779 -0.517350   \n",
       "330  TCGA-A8-A085  44.0       0  0.732720   1.11170  -0.26952 -0.354920   \n",
       "331  TCGA-A1-A0SG  61.0       1 -0.719470   2.54850  -0.15024  0.339680   \n",
       "332  TCGA-A2-A0EU  79.0       1  0.479400   2.05590  -0.53136 -0.188480   \n",
       "333  TCGA-B6-A40B  76.0       1 -0.244270   0.92556  -0.41823 -0.067848   \n",
       "\n",
       "     Tumour_Stage  Histology  ER status  PR status  HER2 status  Surgery_type  \\\n",
       "0               3          3          1          1            0             3   \n",
       "1               2          1          1          1            0             2   \n",
       "2               3          3          1          1            0             4   \n",
       "3               2          3          1          1            0             3   \n",
       "4               2          3          1          1            0             4   \n",
       "..            ...        ...        ...        ...          ...           ...   \n",
       "329             3          3          1          1            1             1   \n",
       "330             2          2          1          1            0             4   \n",
       "331             2          3          1          1            0             2   \n",
       "332             1          3          1          1            1             2   \n",
       "333             1          3          1          1            0             2   \n",
       "\n",
       "    Date_of_Surgery Date_of_Last_Visit  Patient_Status  \n",
       "0         15-Jan-17          19-Jun-17               1  \n",
       "1         26-Apr-17          09-Nov-18               0  \n",
       "2         08-Sep-17          09-Jun-18               1  \n",
       "3         25-Jan-17          12-Jul-17               1  \n",
       "4         06-May-17          27-Jun-19               0  \n",
       "..              ...                ...             ...  \n",
       "329       11-Nov-19          09-Feb-20               0  \n",
       "330       01-Nov-19          04-Mar-20               0  \n",
       "331       11-Nov-19          18-Jan-21               0  \n",
       "332       21-Nov-19          19-Feb-21               0  \n",
       "333       11-Nov-19          05-Jan-21               0  \n",
       "\n",
       "[317 rows x 16 columns]"
      ]
     },
     "execution_count": 24,
     "metadata": {},
     "output_type": "execute_result"
    }
   ],
   "source": [
    "# Printing the Dataset with Changes\n",
    "df"
   ]
  },
  {
   "cell_type": "markdown",
   "id": "6430791e-1c72-41d2-83be-8fb342ddd463",
   "metadata": {},
   "source": [
    "### Model Building"
   ]
  },
  {
   "cell_type": "code",
   "execution_count": 25,
   "id": "673f8f20-ecc1-4d6f-b5e9-d47cc68eae6f",
   "metadata": {},
   "outputs": [],
   "source": [
    "# Segregating the Data to X and Y and changing them To Numpy\n",
    "x = df[['Age', 'Gender', 'Protein1', 'Protein2', 'Protein3','Protein4', 'Tumour_Stage', \n",
    "        'Histology', 'ER status', 'PR status', 'HER2 status', 'Surgery_type']]\n",
    "y = df[['Patient_Status']]\n",
    "x = x.to_numpy()\n",
    "y = y.to_numpy()"
   ]
  },
  {
   "cell_type": "code",
   "execution_count": 26,
   "id": "1991cb56-79a4-4e1c-80b2-47ede8b94eb4",
   "metadata": {},
   "outputs": [],
   "source": [
    "# Splitting the Data into Testing and Training Data\n",
    "x_train,x_test,y_train,y_test = train_test_split(x,y,test_size=0.10, random_state=42)"
   ]
  },
  {
   "cell_type": "code",
   "execution_count": 27,
   "id": "26ad38ac-5527-43d8-b967-475444570e67",
   "metadata": {},
   "outputs": [
    {
     "name": "stderr",
     "output_type": "stream",
     "text": [
      "/opt/anaconda3/lib/python3.11/site-packages/sklearn/utils/validation.py:1143: DataConversionWarning:\n",
      "\n",
      "A column-vector y was passed when a 1d array was expected. Please change the shape of y to (n_samples, ), for example using ravel().\n",
      "\n"
     ]
    },
    {
     "data": {
      "text/html": [
       "<style>#sk-container-id-1 {color: black;background-color: white;}#sk-container-id-1 pre{padding: 0;}#sk-container-id-1 div.sk-toggleable {background-color: white;}#sk-container-id-1 label.sk-toggleable__label {cursor: pointer;display: block;width: 100%;margin-bottom: 0;padding: 0.3em;box-sizing: border-box;text-align: center;}#sk-container-id-1 label.sk-toggleable__label-arrow:before {content: \"▸\";float: left;margin-right: 0.25em;color: #696969;}#sk-container-id-1 label.sk-toggleable__label-arrow:hover:before {color: black;}#sk-container-id-1 div.sk-estimator:hover label.sk-toggleable__label-arrow:before {color: black;}#sk-container-id-1 div.sk-toggleable__content {max-height: 0;max-width: 0;overflow: hidden;text-align: left;background-color: #f0f8ff;}#sk-container-id-1 div.sk-toggleable__content pre {margin: 0.2em;color: black;border-radius: 0.25em;background-color: #f0f8ff;}#sk-container-id-1 input.sk-toggleable__control:checked~div.sk-toggleable__content {max-height: 200px;max-width: 100%;overflow: auto;}#sk-container-id-1 input.sk-toggleable__control:checked~label.sk-toggleable__label-arrow:before {content: \"▾\";}#sk-container-id-1 div.sk-estimator input.sk-toggleable__control:checked~label.sk-toggleable__label {background-color: #d4ebff;}#sk-container-id-1 div.sk-label input.sk-toggleable__control:checked~label.sk-toggleable__label {background-color: #d4ebff;}#sk-container-id-1 input.sk-hidden--visually {border: 0;clip: rect(1px 1px 1px 1px);clip: rect(1px, 1px, 1px, 1px);height: 1px;margin: -1px;overflow: hidden;padding: 0;position: absolute;width: 1px;}#sk-container-id-1 div.sk-estimator {font-family: monospace;background-color: #f0f8ff;border: 1px dotted black;border-radius: 0.25em;box-sizing: border-box;margin-bottom: 0.5em;}#sk-container-id-1 div.sk-estimator:hover {background-color: #d4ebff;}#sk-container-id-1 div.sk-parallel-item::after {content: \"\";width: 100%;border-bottom: 1px solid gray;flex-grow: 1;}#sk-container-id-1 div.sk-label:hover label.sk-toggleable__label {background-color: #d4ebff;}#sk-container-id-1 div.sk-serial::before {content: \"\";position: absolute;border-left: 1px solid gray;box-sizing: border-box;top: 0;bottom: 0;left: 50%;z-index: 0;}#sk-container-id-1 div.sk-serial {display: flex;flex-direction: column;align-items: center;background-color: white;padding-right: 0.2em;padding-left: 0.2em;position: relative;}#sk-container-id-1 div.sk-item {position: relative;z-index: 1;}#sk-container-id-1 div.sk-parallel {display: flex;align-items: stretch;justify-content: center;background-color: white;position: relative;}#sk-container-id-1 div.sk-item::before, #sk-container-id-1 div.sk-parallel-item::before {content: \"\";position: absolute;border-left: 1px solid gray;box-sizing: border-box;top: 0;bottom: 0;left: 50%;z-index: -1;}#sk-container-id-1 div.sk-parallel-item {display: flex;flex-direction: column;z-index: 1;position: relative;background-color: white;}#sk-container-id-1 div.sk-parallel-item:first-child::after {align-self: flex-end;width: 50%;}#sk-container-id-1 div.sk-parallel-item:last-child::after {align-self: flex-start;width: 50%;}#sk-container-id-1 div.sk-parallel-item:only-child::after {width: 0;}#sk-container-id-1 div.sk-dashed-wrapped {border: 1px dashed gray;margin: 0 0.4em 0.5em 0.4em;box-sizing: border-box;padding-bottom: 0.4em;background-color: white;}#sk-container-id-1 div.sk-label label {font-family: monospace;font-weight: bold;display: inline-block;line-height: 1.2em;}#sk-container-id-1 div.sk-label-container {text-align: center;}#sk-container-id-1 div.sk-container {/* jupyter's `normalize.less` sets `[hidden] { display: none; }` but bootstrap.min.css set `[hidden] { display: none !important; }` so we also need the `!important` here to be able to override the default hidden behavior on the sphinx rendered scikit-learn.org. See: https://github.com/scikit-learn/scikit-learn/issues/21755 */display: inline-block !important;position: relative;}#sk-container-id-1 div.sk-text-repr-fallback {display: none;}</style><div id=\"sk-container-id-1\" class=\"sk-top-container\"><div class=\"sk-text-repr-fallback\"><pre>SVC()</pre><b>In a Jupyter environment, please rerun this cell to show the HTML representation or trust the notebook. <br />On GitHub, the HTML representation is unable to render, please try loading this page with nbviewer.org.</b></div><div class=\"sk-container\" hidden><div class=\"sk-item\"><div class=\"sk-estimator sk-toggleable\"><input class=\"sk-toggleable__control sk-hidden--visually\" id=\"sk-estimator-id-1\" type=\"checkbox\" checked><label for=\"sk-estimator-id-1\" class=\"sk-toggleable__label sk-toggleable__label-arrow\">SVC</label><div class=\"sk-toggleable__content\"><pre>SVC()</pre></div></div></div></div></div>"
      ],
      "text/plain": [
       "SVC()"
      ]
     },
     "execution_count": 27,
     "metadata": {},
     "output_type": "execute_result"
    }
   ],
   "source": [
    "# Support Vector Classifier\n",
    "model = SVC()\n",
    "model.fit(x_train,y_train)"
   ]
  },
  {
   "cell_type": "code",
   "execution_count": 28,
   "id": "514bdb31-2be6-475c-b282-2b29454cb62e",
   "metadata": {},
   "outputs": [
    {
     "data": {
      "text/plain": [
       "array([[ 6.5000e+01,  1.0000e+00,  4.3553e-01,  7.7034e-01,  4.9368e-01,\n",
       "         3.7432e-01,  3.0000e+00,  3.0000e+00,  1.0000e+00,  1.0000e+00,\n",
       "         0.0000e+00,  3.0000e+00],\n",
       "       [ 6.0000e+01,  1.0000e+00,  2.5287e-01,  2.2967e+00,  5.3244e-01,\n",
       "         4.6291e-02,  3.0000e+00,  3.0000e+00,  1.0000e+00,  1.0000e+00,\n",
       "         1.0000e+00,  2.0000e+00],\n",
       "       [ 5.0000e+01,  1.0000e+00, -6.2153e-02,  1.6120e+00, -4.7404e-01,\n",
       "        -4.4448e-02,  2.0000e+00,  2.0000e+00,  1.0000e+00,  1.0000e+00,\n",
       "         0.0000e+00,  1.0000e+00],\n",
       "       [ 7.7000e+01,  1.0000e+00, -5.2832e-01,  1.6652e-01,  1.1926e-01,\n",
       "        -4.3346e-01,  2.0000e+00,  2.0000e+00,  1.0000e+00,  1.0000e+00,\n",
       "         0.0000e+00,  3.0000e+00],\n",
       "       [ 7.1000e+01,  1.0000e+00, -2.2305e-01,  5.0594e-01, -3.4943e-01,\n",
       "        -8.3530e-01,  2.0000e+00,  3.0000e+00,  1.0000e+00,  1.0000e+00,\n",
       "         0.0000e+00,  2.0000e+00],\n",
       "       [ 7.1000e+01,  1.0000e+00,  1.2758e-01,  8.1033e-01,  5.1345e-01,\n",
       "        -1.0298e-01,  2.0000e+00,  3.0000e+00,  1.0000e+00,  1.0000e+00,\n",
       "         0.0000e+00,  2.0000e+00],\n",
       "       [ 7.4000e+01,  1.0000e+00, -2.1082e-01, -9.7873e-01, -1.0600e+00,\n",
       "        -8.4252e-01,  2.0000e+00,  3.0000e+00,  1.0000e+00,  1.0000e+00,\n",
       "         0.0000e+00,  1.0000e+00],\n",
       "       [ 6.6000e+01,  1.0000e+00,  4.9589e-01,  1.8661e+00,  4.4083e-02,\n",
       "         2.4241e-01,  2.0000e+00,  3.0000e+00,  1.0000e+00,  1.0000e+00,\n",
       "         0.0000e+00,  2.0000e+00],\n",
       "       [ 6.7000e+01,  1.0000e+00, -7.5475e-01,  9.4773e-01, -8.0776e-01,\n",
       "         2.0922e-01,  2.0000e+00,  3.0000e+00,  1.0000e+00,  1.0000e+00,\n",
       "         0.0000e+00,  4.0000e+00],\n",
       "       [ 6.1000e+01,  1.0000e+00,  6.6639e-01,  2.1892e+00, -1.1018e+00,\n",
       "        -8.3145e-01,  2.0000e+00,  2.0000e+00,  1.0000e+00,  1.0000e+00,\n",
       "         0.0000e+00,  2.0000e+00],\n",
       "       [ 7.1000e+01,  1.0000e+00,  3.5524e-01,  1.9752e+00, -1.3443e-02,\n",
       "         5.5076e-01,  3.0000e+00,  3.0000e+00,  1.0000e+00,  1.0000e+00,\n",
       "         0.0000e+00,  4.0000e+00],\n",
       "       [ 7.7000e+01,  1.0000e+00, -5.8151e-02,  6.7432e-01, -4.2303e-01,\n",
       "         1.6753e-01,  1.0000e+00,  3.0000e+00,  1.0000e+00,  1.0000e+00,\n",
       "         0.0000e+00,  2.0000e+00],\n",
       "       [ 7.0000e+01,  1.0000e+00,  7.0029e-01,  9.7347e-01, -2.9645e-01,\n",
       "         1.0551e-01,  1.0000e+00,  3.0000e+00,  1.0000e+00,  1.0000e+00,\n",
       "         0.0000e+00,  1.0000e+00],\n",
       "       [ 4.8000e+01,  1.0000e+00, -6.4398e-01, -5.9363e-01, -1.0974e-01,\n",
       "        -1.6028e+00,  3.0000e+00,  3.0000e+00,  1.0000e+00,  1.0000e+00,\n",
       "         0.0000e+00,  4.0000e+00],\n",
       "       [ 6.2000e+01,  1.0000e+00,  7.8601e-01,  8.0845e-01,  4.2229e-01,\n",
       "        -1.4382e-01,  2.0000e+00,  3.0000e+00,  1.0000e+00,  1.0000e+00,\n",
       "         0.0000e+00,  3.0000e+00],\n",
       "       [ 6.2000e+01,  1.0000e+00,  6.7951e-01,  4.9814e-01,  1.8525e-02,\n",
       "         2.8502e-01,  2.0000e+00,  3.0000e+00,  1.0000e+00,  1.0000e+00,\n",
       "         1.0000e+00,  1.0000e+00],\n",
       "       [ 4.5000e+01,  1.0000e+00, -4.6408e-01,  8.5337e-01,  2.4774e-01,\n",
       "        -5.4734e-01,  3.0000e+00,  2.0000e+00,  1.0000e+00,  1.0000e+00,\n",
       "         1.0000e+00,  4.0000e+00],\n",
       "       [ 5.4000e+01,  1.0000e+00,  3.2671e-01, -2.9499e-01,  1.7691e+00,\n",
       "         7.7087e-01,  2.0000e+00,  3.0000e+00,  1.0000e+00,  1.0000e+00,\n",
       "         0.0000e+00,  3.0000e+00],\n",
       "       [ 3.6000e+01,  1.0000e+00,  2.3180e-01,  6.1804e-01, -5.5779e-01,\n",
       "        -5.1735e-01,  3.0000e+00,  3.0000e+00,  1.0000e+00,  1.0000e+00,\n",
       "         1.0000e+00,  1.0000e+00],\n",
       "       [ 6.3000e+01,  1.0000e+00, -6.0324e-01,  1.1190e+00, -6.0583e-01,\n",
       "        -5.8394e-01,  3.0000e+00,  3.0000e+00,  1.0000e+00,  1.0000e+00,\n",
       "         0.0000e+00,  3.0000e+00],\n",
       "       [ 6.6000e+01,  1.0000e+00, -3.3451e-01,  1.6081e+00,  3.8047e-01,\n",
       "         1.2195e-01,  2.0000e+00,  3.0000e+00,  1.0000e+00,  1.0000e+00,\n",
       "         0.0000e+00,  4.0000e+00],\n",
       "       [ 4.1000e+01,  1.0000e+00, -7.0340e-02, -2.7153e-01,  4.6708e-01,\n",
       "        -1.2196e+00,  2.0000e+00,  2.0000e+00,  1.0000e+00,  1.0000e+00,\n",
       "         0.0000e+00,  3.0000e+00],\n",
       "       [ 4.7000e+01,  1.0000e+00, -1.9819e-01,  6.2597e-01, -2.8137e-01,\n",
       "        -4.7774e-01,  2.0000e+00,  3.0000e+00,  1.0000e+00,  1.0000e+00,\n",
       "         0.0000e+00,  2.0000e+00],\n",
       "       [ 6.3000e+01,  1.0000e+00, -8.3210e-01, -2.3494e-01,  6.3831e-01,\n",
       "         3.0815e-02,  2.0000e+00,  3.0000e+00,  1.0000e+00,  1.0000e+00,\n",
       "         0.0000e+00,  1.0000e+00],\n",
       "       [ 8.4000e+01,  1.0000e+00,  1.4991e-01,  1.4923e+00, -9.3182e-01,\n",
       "        -2.3158e-02,  2.0000e+00,  3.0000e+00,  1.0000e+00,  1.0000e+00,\n",
       "         0.0000e+00,  1.0000e+00],\n",
       "       [ 6.5000e+01,  1.0000e+00, -5.4013e-01,  2.6043e+00, -6.8803e-01,\n",
       "         3.1524e-03,  2.0000e+00,  3.0000e+00,  1.0000e+00,  1.0000e+00,\n",
       "         0.0000e+00,  1.0000e+00],\n",
       "       [ 5.3000e+01,  1.0000e+00, -8.9463e-02,  1.0331e+00, -4.7793e-01,\n",
       "        -2.5303e-01,  2.0000e+00,  3.0000e+00,  1.0000e+00,  1.0000e+00,\n",
       "         0.0000e+00,  1.0000e+00],\n",
       "       [ 5.0000e+01,  1.0000e+00, -7.9765e-02,  2.6229e+00,  4.9687e-02,\n",
       "        -3.9369e-02,  1.0000e+00,  3.0000e+00,  1.0000e+00,  1.0000e+00,\n",
       "         0.0000e+00,  4.0000e+00],\n",
       "       [ 4.9000e+01,  1.0000e+00, -2.0161e-01,  2.7159e-01, -4.4871e-01,\n",
       "         3.2081e-01,  3.0000e+00,  2.0000e+00,  1.0000e+00,  1.0000e+00,\n",
       "         0.0000e+00,  3.0000e+00],\n",
       "       [ 4.6000e+01,  1.0000e+00,  5.2751e-01, -6.2123e-01, -5.4699e-01,\n",
       "         3.9106e-01,  2.0000e+00,  3.0000e+00,  1.0000e+00,  1.0000e+00,\n",
       "         0.0000e+00,  4.0000e+00],\n",
       "       [ 3.2000e+01,  1.0000e+00,  1.2545e-01,  1.4565e+00, -6.8030e-01,\n",
       "        -1.0378e-02,  1.0000e+00,  3.0000e+00,  1.0000e+00,  1.0000e+00,\n",
       "         0.0000e+00,  3.0000e+00],\n",
       "       [ 8.4000e+01,  0.0000e+00, -8.1872e-02,  1.7241e+00, -5.7335e-02,\n",
       "         4.3025e-02,  3.0000e+00,  3.0000e+00,  1.0000e+00,  1.0000e+00,\n",
       "         0.0000e+00,  3.0000e+00]])"
      ]
     },
     "execution_count": 28,
     "metadata": {},
     "output_type": "execute_result"
    }
   ],
   "source": [
    "# Printing X_test\n",
    "x_test"
   ]
  },
  {
   "cell_type": "code",
   "execution_count": 29,
   "id": "2e30eda9-05aa-412f-ae3d-03d08405c586",
   "metadata": {},
   "outputs": [
    {
     "data": {
      "text/plain": [
       "array([[1],\n",
       "       [1],\n",
       "       [1],\n",
       "       [1],\n",
       "       [1],\n",
       "       [1],\n",
       "       [1],\n",
       "       [1],\n",
       "       [0],\n",
       "       [1],\n",
       "       [0],\n",
       "       [1],\n",
       "       [1],\n",
       "       [1],\n",
       "       [1],\n",
       "       [1],\n",
       "       [1],\n",
       "       [1],\n",
       "       [0],\n",
       "       [1],\n",
       "       [1],\n",
       "       [1],\n",
       "       [1],\n",
       "       [1],\n",
       "       [0],\n",
       "       [1],\n",
       "       [1],\n",
       "       [1],\n",
       "       [0],\n",
       "       [1],\n",
       "       [0],\n",
       "       [1]])"
      ]
     },
     "execution_count": 29,
     "metadata": {},
     "output_type": "execute_result"
    }
   ],
   "source": [
    "# Printing Y_test\n",
    "y_test"
   ]
  },
  {
   "cell_type": "code",
   "execution_count": 30,
   "id": "64530d32-fab6-44ec-8cd7-1eafe6d2daac",
   "metadata": {},
   "outputs": [],
   "source": [
    "# Making Predictions on the Testing Data\n",
    "x_test_prediction = model.predict(x_test)\n",
    "testing_accuracy_score = accuracy_score(x_test_prediction,y_test)"
   ]
  },
  {
   "cell_type": "code",
   "execution_count": 31,
   "id": "f1c69596-4d89-4c7f-8b00-b6ebf320b5f1",
   "metadata": {},
   "outputs": [
    {
     "name": "stdout",
     "output_type": "stream",
     "text": [
      "0.8125\n"
     ]
    }
   ],
   "source": [
    "# Printing the Accuracy Score\n",
    "print(testing_accuracy_score)"
   ]
  },
  {
   "cell_type": "code",
   "execution_count": 32,
   "id": "c1ff17e3-ea51-4cb0-9073-2af16125c712",
   "metadata": {},
   "outputs": [],
   "source": [
    "# Classification Report \n",
    "report = classification_report(y_test,x_test_prediction, zero_division=0)"
   ]
  },
  {
   "cell_type": "code",
   "execution_count": 33,
   "id": "c106444a-0d5a-433e-838b-5a12b78026ba",
   "metadata": {},
   "outputs": [
    {
     "name": "stdout",
     "output_type": "stream",
     "text": [
      "              precision    recall  f1-score   support\n",
      "\n",
      "           0       0.00      0.00      0.00         6\n",
      "           1       0.81      1.00      0.90        26\n",
      "\n",
      "    accuracy                           0.81        32\n",
      "   macro avg       0.41      0.50      0.45        32\n",
      "weighted avg       0.66      0.81      0.73        32\n",
      "\n"
     ]
    }
   ],
   "source": [
    "# Printing the Classification Report\n",
    "print(report)"
   ]
  },
  {
   "cell_type": "code",
   "execution_count": 34,
   "id": "8ca7aeab-2215-4c50-b0bd-bb3e5ae795c7",
   "metadata": {},
   "outputs": [],
   "source": [
    "# Confusion Matrix\n",
    "confusionmatrix = confusion_matrix(y_test,x_test_prediction)"
   ]
  },
  {
   "cell_type": "code",
   "execution_count": 35,
   "id": "35350bdd-88f3-4195-9847-a5f31d3c145e",
   "metadata": {},
   "outputs": [
    {
     "name": "stdout",
     "output_type": "stream",
     "text": [
      "[[ 0  6]\n",
      " [ 0 26]]\n"
     ]
    }
   ],
   "source": [
    "# Printing Confusion Matrix\n",
    "print(confusionmatrix)"
   ]
  },
  {
   "cell_type": "markdown",
   "id": "bd263966-a25c-40f9-8c87-6b6d9260a7a8",
   "metadata": {},
   "source": [
    "#### 1 ==> Alive\n",
    "#### 0 ==> Dead"
   ]
  },
  {
   "cell_type": "code",
   "execution_count": 36,
   "id": "b6d6294b-e963-4719-b93f-1a75d1485ba0",
   "metadata": {},
   "outputs": [
    {
     "name": "stdout",
     "output_type": "stream",
     "text": [
      "[1]\n"
     ]
    }
   ],
   "source": [
    "# Predicting with the values of the Parameters of the Dataset\n",
    "features = np.array([[8.4000e+01,  0.0000e+00, -8.1872e-02,  1.7241e+00, -5.7335e-02,\n",
    "         4.3025e-02,  3.0000e+00,  3.0000e+00,  1.0000e+00,  1.0000e+00,\n",
    "         0.0000e+00,  3.0000e+00]])\n",
    "print(model.predict(features))"
   ]
  }
 ],
 "metadata": {
  "kernelspec": {
   "display_name": "Python 3 (ipykernel)",
   "language": "python",
   "name": "python3"
  },
  "language_info": {
   "codemirror_mode": {
    "name": "ipython",
    "version": 3
   },
   "file_extension": ".py",
   "mimetype": "text/x-python",
   "name": "python",
   "nbconvert_exporter": "python",
   "pygments_lexer": "ipython3",
   "version": "3.11.7"
  }
 },
 "nbformat": 4,
 "nbformat_minor": 5
}
